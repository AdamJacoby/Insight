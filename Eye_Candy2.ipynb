{
 "cells": [
  {
   "cell_type": "code",
   "execution_count": 1,
   "metadata": {},
   "outputs": [],
   "source": [
    "import pickle\n",
    "import pandas as pd\n",
    "import numpy as np\n",
    "from sklearn.ensemble import RandomForestClassifier\n",
    "from sklearn.linear_model import LogisticRegression\n",
    "from sklearn.model_selection import StratifiedShuffleSplit, cross_val_score,train_test_split\n",
    "from sklearn.cluster import KMeans\n",
    "from __future__ import division\n",
    "from gensim.models import Word2Vec\n",
    "import re\n",
    "#custom packages\n",
    "from Twitch_Data.preprocessingtools import *\n",
    "import custom_validation_tools"
   ]
  },
  {
   "cell_type": "code",
   "execution_count": 2,
   "metadata": {
    "collapsed": true
   },
   "outputs": [],
   "source": [
    "with open('current_model','r') as file:\n",
    "    model =pickle.load(file)\n",
    "with open('current_wv_model','r') as file:\n",
    "    wv_model = pickle.load(file)\n",
    "with open('current_cluster_model','r') as file:\n",
    "    cluster_model = pickle.load(file)"
   ]
  },
  {
   "cell_type": "code",
   "execution_count": 3,
   "metadata": {
    "collapsed": true
   },
   "outputs": [],
   "source": [
    "FI=model.feature_importances_"
   ]
  },
  {
   "cell_type": "code",
   "execution_count": 4,
   "metadata": {
    "collapsed": true
   },
   "outputs": [],
   "source": [
    "Top10=sorted(range(len(FI)),key=lambda x:FI[x])[-10:]"
   ]
  },
  {
   "cell_type": "code",
   "execution_count": 5,
   "metadata": {},
   "outputs": [
    {
     "data": {
      "text/plain": [
       "[219, 79, 93, 33, 143, 221, 285, 302, 301, 303]"
      ]
     },
     "execution_count": 5,
     "metadata": {},
     "output_type": "execute_result"
    }
   ],
   "source": [
    "Top10"
   ]
  },
  {
   "cell_type": "code",
   "execution_count": 6,
   "metadata": {
    "collapsed": true
   },
   "outputs": [],
   "source": [
    "CC = cluster_model.cluster_centers_"
   ]
  },
  {
   "cell_type": "code",
   "execution_count": 7,
   "metadata": {
    "collapsed": true
   },
   "outputs": [],
   "source": [
    "Topwords=Top10[:-3]"
   ]
  },
  {
   "cell_type": "code",
   "execution_count": 8,
   "metadata": {},
   "outputs": [
    {
     "name": "stdout",
     "output_type": "stream",
     "text": [
      "-------------------------------------------------------------------------------\n",
      "[('my', 1.0), (u'your', 0.7182267904281616), ('up', 0.6797968149185181), (u'the', 0.6443002223968506), ('us', 0.6393260359764099), (u'cup', 0.6340727806091309), (u'most', 0.6006506681442261), ('ur', 0.5944281220436096), (u'dot', 0.5942372679710388), (u'some', 0.591926097869873), (u'these', 0.5874341726303101), ('me', 0.587227463722229), (u'nflab81', 0.5861254930496216), (u'chair', 0.5815078616142273), (u'iaposv', 0.5738510489463806), (u'their', 0.5698086023330688), (u'someon', 0.569794774055481), (u'anyon', 0.5647101998329163), (u'broadcast', 0.5583928823471069), (u'savjz', 0.5571130514144897)]\n",
      "0.0146906034215\n",
      "-------------------------------------------------------------------------------\n",
      "[('my', 1.0), (u'your', 0.7182267904281616), ('up', 0.6797968149185181), (u'the', 0.6443002223968506), ('us', 0.6393260359764099), (u'cup', 0.6340727806091309), (u'most', 0.6006506681442261), ('ur', 0.5944281220436096), (u'dot', 0.5942372679710388), (u'some', 0.591926097869873), (u'these', 0.5874341726303101), ('me', 0.587227463722229), (u'nflab81', 0.5861254930496216), (u'chair', 0.5815078616142273), (u'iaposv', 0.5738510489463806), (u'their', 0.5698086023330688), (u'someon', 0.569794774055481), (u'anyon', 0.5647101998329163), (u'broadcast', 0.5583928823471069), (u'savjz', 0.5571130514144897)]\n",
      "0.0146906034215\n",
      "-------------------------------------------------------------------------------\n",
      "[('my', 1.0), (u'your', 0.7182267904281616), ('up', 0.6797968149185181), (u'the', 0.6443002223968506), ('us', 0.6393260359764099), (u'cup', 0.6340727806091309), (u'most', 0.6006506681442261), ('ur', 0.5944281220436096), (u'dot', 0.5942372679710388), (u'some', 0.591926097869873), (u'these', 0.5874341726303101), ('me', 0.587227463722229), (u'nflab81', 0.5861254930496216), (u'chair', 0.5815078616142273), (u'iaposv', 0.5738510489463806), (u'their', 0.5698086023330688), (u'someon', 0.569794774055481), (u'anyon', 0.5647101998329163), (u'broadcast', 0.5583928823471069), (u'savjz', 0.5571130514144897)]\n",
      "0.0146906034215\n",
      "-------------------------------------------------------------------------------\n",
      "[('my', 1.0), (u'your', 0.7182267904281616), ('up', 0.6797968149185181), (u'the', 0.6443002223968506), ('us', 0.6393260359764099), (u'cup', 0.6340727806091309), (u'most', 0.6006506681442261), ('ur', 0.5944281220436096), (u'dot', 0.5942372679710388), (u'some', 0.591926097869873), (u'these', 0.5874341726303101), ('me', 0.587227463722229), (u'nflab81', 0.5861254930496216), (u'chair', 0.5815078616142273), (u'iaposv', 0.5738510489463806), (u'their', 0.5698086023330688), (u'someon', 0.569794774055481), (u'anyon', 0.5647101998329163), (u'broadcast', 0.5583928823471069), (u'savjz', 0.5571130514144897)]\n",
      "0.0146906034215\n",
      "-------------------------------------------------------------------------------\n",
      "[('my', 1.0), (u'your', 0.7182267904281616), ('up', 0.6797968149185181), (u'the', 0.6443002223968506), ('us', 0.6393260359764099), (u'cup', 0.6340727806091309), (u'most', 0.6006506681442261), ('ur', 0.5944281220436096), (u'dot', 0.5942372679710388), (u'some', 0.591926097869873), (u'these', 0.5874341726303101), ('me', 0.587227463722229), (u'nflab81', 0.5861254930496216), (u'chair', 0.5815078616142273), (u'iaposv', 0.5738510489463806), (u'their', 0.5698086023330688), (u'someon', 0.569794774055481), (u'anyon', 0.5647101998329163), (u'broadcast', 0.5583928823471069), (u'savjz', 0.5571130514144897)]\n",
      "0.0146906034215\n"
     ]
    }
   ],
   "source": [
    "for i in [-1,-2,-3,-4,-5]:\n",
    "    print '-------------------------------------------------------------------------------'\n",
    "    print wv_model.wv.most_similar(positive =[CC[Topwords[-5]]],topn=20)\n",
    "    print FI[Topwords[-5]]"
   ]
  },
  {
   "cell_type": "code",
   "execution_count": null,
   "metadata": {
    "collapsed": true
   },
   "outputs": [],
   "source": []
  }
 ],
 "metadata": {
  "kernelspec": {
   "display_name": "Python 2",
   "language": "python",
   "name": "python2"
  },
  "language_info": {
   "codemirror_mode": {
    "name": "ipython",
    "version": 2
   },
   "file_extension": ".py",
   "mimetype": "text/x-python",
   "name": "python",
   "nbconvert_exporter": "python",
   "pygments_lexer": "ipython2",
   "version": "2.7.12"
  }
 },
 "nbformat": 4,
 "nbformat_minor": 2
}
