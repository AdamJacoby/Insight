{
 "cells": [
  {
   "cell_type": "code",
   "execution_count": 1,
   "metadata": {
    "collapsed": true
   },
   "outputs": [],
   "source": [
    "import pickle\n",
    "import pandas as pd\n",
    "import numpy as np\n",
    "from sklearn.ensemble import RandomForestClassifier\n",
    "from sklearn.linear_model import LogisticRegression\n",
    "from sklearn.model_selection import StratifiedShuffleSplit, cross_val_score,train_test_split\n",
    "from sklearn.cluster import KMeans\n",
    "from __future__ import division\n",
    "from gensim.models import Word2Vec\n",
    "import re\n",
    "from imblearn.over_sampling import SMOTE\n",
    "#custom packages\n",
    "from Twitch_Data.preprocessingtools import *\n",
    "import custom_validation_tools"
   ]
  },
  {
   "cell_type": "code",
   "execution_count": 2,
   "metadata": {
    "collapsed": true
   },
   "outputs": [],
   "source": [
    "sentences = get_sentences('steming')"
   ]
  },
  {
   "cell_type": "code",
   "execution_count": 3,
   "metadata": {
    "collapsed": true
   },
   "outputs": [],
   "source": [
    "word_vec=Word2Vec(sentences)"
   ]
  },
  {
   "cell_type": "code",
   "execution_count": 4,
   "metadata": {
    "collapsed": true
   },
   "outputs": [],
   "source": [
    "def get_vectors(model):\n",
    "    vectors=[]\n",
    "    for word in model.wv.vocab:\n",
    "        vectors.append(model.wv[word])\n",
    "    return vectors"
   ]
  },
  {
   "cell_type": "code",
   "execution_count": 5,
   "metadata": {
    "collapsed": true
   },
   "outputs": [],
   "source": [
    "vectors = get_vectors(word_vec)"
   ]
  },
  {
   "cell_type": "code",
   "execution_count": 6,
   "metadata": {},
   "outputs": [
    {
     "data": {
      "text/plain": [
       "(9939, 6)"
      ]
     },
     "execution_count": 6,
     "metadata": {},
     "output_type": "execute_result"
    }
   ],
   "source": [
    "_data =pd.read_json('Twitch_Data/AllLabeled.json')\n",
    "_data.shape"
   ]
  },
  {
   "cell_type": "code",
   "execution_count": 7,
   "metadata": {},
   "outputs": [
    {
     "data": {
      "text/html": [
       "<div>\n",
       "<style>\n",
       "    .dataframe thead tr:only-child th {\n",
       "        text-align: right;\n",
       "    }\n",
       "\n",
       "    .dataframe thead th {\n",
       "        text-align: left;\n",
       "    }\n",
       "\n",
       "    .dataframe tbody tr th {\n",
       "        vertical-align: top;\n",
       "    }\n",
       "</style>\n",
       "<table border=\"1\" class=\"dataframe\">\n",
       "  <thead>\n",
       "    <tr style=\"text-align: right;\">\n",
       "      <th></th>\n",
       "      <th>class</th>\n",
       "      <th>edited message</th>\n",
       "      <th>features10</th>\n",
       "      <th>features100</th>\n",
       "      <th>features1000</th>\n",
       "      <th>features125</th>\n",
       "      <th>features15</th>\n",
       "      <th>features150</th>\n",
       "      <th>features20</th>\n",
       "      <th>features200</th>\n",
       "      <th>...</th>\n",
       "      <th>features4</th>\n",
       "      <th>features400</th>\n",
       "      <th>features5</th>\n",
       "      <th>features500</th>\n",
       "      <th>features6</th>\n",
       "      <th>features7</th>\n",
       "      <th>features8</th>\n",
       "      <th>features9</th>\n",
       "      <th>message</th>\n",
       "      <th>spam flag</th>\n",
       "    </tr>\n",
       "  </thead>\n",
       "  <tbody>\n",
       "    <tr>\n",
       "      <th>0</th>\n",
       "      <td>1</td>\n",
       "      <td>@savjz what is the point of the quest in this ...</td>\n",
       "      <td>[0.0, 0.0, 2.0, 0.0, 0.0, 0.0, 2.0, 0.0, 0.0, ...</td>\n",
       "      <td>[0.0, 0.0, 0.0, 0.0, 0.0, 0.0, 0.0, 0.0, 0.0, ...</td>\n",
       "      <td>[0.0, 0.0, 0.0, 0.0, 0.0, 0.0, 0.0, 0.0, 0.0, ...</td>\n",
       "      <td>[0.0, 0.0, 0.0, 0.0, 0.0, 0.0, 0.0, 0.0, 0.0, ...</td>\n",
       "      <td>[0.0, 1.0, 1.0, 2.0, 0.0, 0.0, 0.0, 2.0, 0.0, ...</td>\n",
       "      <td>[0.0, 0.0, 0.0, 0.0, 0.0, 0.0, 0.0, 0.0, 0.0, ...</td>\n",
       "      <td>[0.0, 1.0, 0.0, 0.0, 0.0, 0.0, 1.0, 1.0, 2.0, ...</td>\n",
       "      <td>[0.0, 0.0, 0.0, 0.0, 0.0, 0.0, 0.0, 0.0, 0.0, ...</td>\n",
       "      <td>...</td>\n",
       "      <td>[2.0, 0.0, 0.0, 1.0, 0.0, 0.0256410256, 0.02, ...</td>\n",
       "      <td>[0.0, 0.0, 1.0, 0.0, 0.0, 0.0, 0.0, 0.0, 0.0, ...</td>\n",
       "      <td>[0.0, 2.0, 0.0, 0.0, 1.0, 0.0, 0.0256410256, 0...</td>\n",
       "      <td>[0.0, 0.0, 0.0, 0.0, 0.0, 0.0, 0.0, 0.0, 0.0, ...</td>\n",
       "      <td>[0.0, 0.0, 2.0, 0.0, 0.0, 1.0, 0.0, 0.02564102...</td>\n",
       "      <td>[0.0, 0.0, 0.0, 2.0, 0.0, 0.0, 1.0, 0.0, 0.025...</td>\n",
       "      <td>[2.0, 0.0, 0.0, 0.0, 2.0, 0.0, 0.0, 1.0, 0.0, ...</td>\n",
       "      <td>[0.0, 2.0, 0.0, 0.0, 0.0, 2.0, 0.0, 0.0, 1.0, ...</td>\n",
       "      <td>@Savjz what is the point of the quest in this ...</td>\n",
       "      <td>0.712101</td>\n",
       "    </tr>\n",
       "  </tbody>\n",
       "</table>\n",
       "<p>1 rows × 22 columns</p>\n",
       "</div>"
      ],
      "text/plain": [
       "   class                                     edited message  \\\n",
       "0      1  @savjz what is the point of the quest in this ...   \n",
       "\n",
       "                                          features10  \\\n",
       "0  [0.0, 0.0, 2.0, 0.0, 0.0, 0.0, 2.0, 0.0, 0.0, ...   \n",
       "\n",
       "                                         features100  \\\n",
       "0  [0.0, 0.0, 0.0, 0.0, 0.0, 0.0, 0.0, 0.0, 0.0, ...   \n",
       "\n",
       "                                        features1000  \\\n",
       "0  [0.0, 0.0, 0.0, 0.0, 0.0, 0.0, 0.0, 0.0, 0.0, ...   \n",
       "\n",
       "                                         features125  \\\n",
       "0  [0.0, 0.0, 0.0, 0.0, 0.0, 0.0, 0.0, 0.0, 0.0, ...   \n",
       "\n",
       "                                          features15  \\\n",
       "0  [0.0, 1.0, 1.0, 2.0, 0.0, 0.0, 0.0, 2.0, 0.0, ...   \n",
       "\n",
       "                                         features150  \\\n",
       "0  [0.0, 0.0, 0.0, 0.0, 0.0, 0.0, 0.0, 0.0, 0.0, ...   \n",
       "\n",
       "                                          features20  \\\n",
       "0  [0.0, 1.0, 0.0, 0.0, 0.0, 0.0, 1.0, 1.0, 2.0, ...   \n",
       "\n",
       "                                         features200    ...     \\\n",
       "0  [0.0, 0.0, 0.0, 0.0, 0.0, 0.0, 0.0, 0.0, 0.0, ...    ...      \n",
       "\n",
       "                                           features4  \\\n",
       "0  [2.0, 0.0, 0.0, 1.0, 0.0, 0.0256410256, 0.02, ...   \n",
       "\n",
       "                                         features400  \\\n",
       "0  [0.0, 0.0, 1.0, 0.0, 0.0, 0.0, 0.0, 0.0, 0.0, ...   \n",
       "\n",
       "                                           features5  \\\n",
       "0  [0.0, 2.0, 0.0, 0.0, 1.0, 0.0, 0.0256410256, 0...   \n",
       "\n",
       "                                         features500  \\\n",
       "0  [0.0, 0.0, 0.0, 0.0, 0.0, 0.0, 0.0, 0.0, 0.0, ...   \n",
       "\n",
       "                                           features6  \\\n",
       "0  [0.0, 0.0, 2.0, 0.0, 0.0, 1.0, 0.0, 0.02564102...   \n",
       "\n",
       "                                           features7  \\\n",
       "0  [0.0, 0.0, 0.0, 2.0, 0.0, 0.0, 1.0, 0.0, 0.025...   \n",
       "\n",
       "                                           features8  \\\n",
       "0  [2.0, 0.0, 0.0, 0.0, 2.0, 0.0, 0.0, 1.0, 0.0, ...   \n",
       "\n",
       "                                           features9  \\\n",
       "0  [0.0, 2.0, 0.0, 0.0, 0.0, 2.0, 0.0, 0.0, 1.0, ...   \n",
       "\n",
       "                                             message spam flag  \n",
       "0  @Savjz what is the point of the quest in this ...  0.712101  \n",
       "\n",
       "[1 rows x 22 columns]"
      ]
     },
     "execution_count": 7,
     "metadata": {},
     "output_type": "execute_result"
    }
   ],
   "source": [
    "_data2=pd.read_json('All_Labeled_NA.json')\n",
    "_data2.head(1)"
   ]
  },
  {
   "cell_type": "code",
   "execution_count": 48,
   "metadata": {
    "collapsed": true
   },
   "outputs": [],
   "source": [
    "for n in [300]:\n",
    "    cluster_model=KMeans(n_clusters=n)\n",
    "    cluster_model.fit(vectors)\n",
    "    _data2['features'+str(n)]=_data2.apply(lambda x:[extrace_advanced_features(word_vec,cluster_model,x['message'],x['edited message'],'steming')],axis=1)\n",
    "    _data2['features'+str(n)]=_data2['features'+str(n)].apply(lambda x: x[0])"
   ]
  },
  {
   "cell_type": "code",
   "execution_count": 51,
   "metadata": {
    "collapsed": true
   },
   "outputs": [],
   "source": [
    "for n in [200,300,400,500,1000]:\n",
    "    cluster_model=KMeans(n_clusters=n)\n",
    "    cluster_model.fit(vectors)\n",
    "    _data['features'+str(n)]=_data.apply(lambda x:[extrace_advanced_features(word_vec,cluster_model,x['message'],x['edited message'],'steming')],axis=1)\n",
    "    _data['features'+str(n)]=_data['features'+str(n)].apply(lambda x: x[0])"
   ]
  },
  {
   "cell_type": "code",
   "execution_count": 52,
   "metadata": {},
   "outputs": [
    {
     "data": {
      "text/html": [
       "<div>\n",
       "<style>\n",
       "    .dataframe thead tr:only-child th {\n",
       "        text-align: right;\n",
       "    }\n",
       "\n",
       "    .dataframe thead th {\n",
       "        text-align: left;\n",
       "    }\n",
       "\n",
       "    .dataframe tbody tr th {\n",
       "        vertical-align: top;\n",
       "    }\n",
       "</style>\n",
       "<table border=\"1\" class=\"dataframe\">\n",
       "  <thead>\n",
       "    <tr style=\"text-align: right;\">\n",
       "      <th></th>\n",
       "      <th>class</th>\n",
       "      <th>edited message</th>\n",
       "      <th>features10</th>\n",
       "      <th>features100</th>\n",
       "      <th>features15</th>\n",
       "      <th>features20</th>\n",
       "      <th>features25</th>\n",
       "      <th>features4</th>\n",
       "      <th>features5</th>\n",
       "      <th>features6</th>\n",
       "      <th>...</th>\n",
       "      <th>features9</th>\n",
       "      <th>message</th>\n",
       "      <th>spam flag</th>\n",
       "      <th>features125</th>\n",
       "      <th>features150</th>\n",
       "      <th>features200</th>\n",
       "      <th>features300</th>\n",
       "      <th>features400</th>\n",
       "      <th>features500</th>\n",
       "      <th>features1000</th>\n",
       "    </tr>\n",
       "  </thead>\n",
       "  <tbody>\n",
       "    <tr>\n",
       "      <th>0</th>\n",
       "      <td>1</td>\n",
       "      <td>@savjz what is the point of the quest in this ...</td>\n",
       "      <td>[0.0, 0.0, 2.0, 0.0, 0.0, 0.0, 2.0, 0.0, 0.0, ...</td>\n",
       "      <td>[0.0, 0.0, 0.0, 0.0, 0.0, 0.0, 0.0, 0.0, 0.0, ...</td>\n",
       "      <td>[0.0, 1.0, 1.0, 2.0, 0.0, 0.0, 0.0, 2.0, 0.0, ...</td>\n",
       "      <td>[0.0, 1.0, 0.0, 0.0, 0.0, 0.0, 1.0, 1.0, 2.0, ...</td>\n",
       "      <td>[0.0, 0.0, 0.0, 0.0, 0.0, 0.0, 1.0, 0.0, 0.0, ...</td>\n",
       "      <td>[2.0, 0.0, 0.0, 1.0, 0.0, 0.0256410256, 0.02, ...</td>\n",
       "      <td>[0.0, 2.0, 0.0, 0.0, 1.0, 0.0, 0.0256410256, 0...</td>\n",
       "      <td>[0.0, 0.0, 2.0, 0.0, 0.0, 1.0, 0.0, 0.02564102...</td>\n",
       "      <td>...</td>\n",
       "      <td>[0.0, 2.0, 0.0, 0.0, 0.0, 2.0, 0.0, 0.0, 1.0, ...</td>\n",
       "      <td>@Savjz what is the point of the quest in this ...</td>\n",
       "      <td>0.712101</td>\n",
       "      <td>[0.0, 0.0, 0.0, 0.0, 0.0, 0.0, 0.0, 0.0, 0.0, ...</td>\n",
       "      <td>[0.0, 0.0, 0.0, 0.0, 0.0, 0.0, 0.0, 0.0, 0.0, ...</td>\n",
       "      <td>[0.0, 0.0, 0.0, 0.0, 0.0, 0.0, 0.0, 0.0, 0.0, ...</td>\n",
       "      <td>[0.0, 0.0, 0.0, 0.0, 0.0, 0.0, 0.0, 0.0, 0.0, ...</td>\n",
       "      <td>[0.0, 0.0, 1.0, 0.0, 0.0, 0.0, 0.0, 0.0, 0.0, ...</td>\n",
       "      <td>[0.0, 0.0, 0.0, 0.0, 0.0, 0.0, 0.0, 0.0, 0.0, ...</td>\n",
       "      <td>[0.0, 0.0, 0.0, 0.0, 0.0, 0.0, 0.0, 0.0, 0.0, ...</td>\n",
       "    </tr>\n",
       "  </tbody>\n",
       "</table>\n",
       "<p>1 rows × 22 columns</p>\n",
       "</div>"
      ],
      "text/plain": [
       "   class                                     edited message  \\\n",
       "0      1  @savjz what is the point of the quest in this ...   \n",
       "\n",
       "                                          features10  \\\n",
       "0  [0.0, 0.0, 2.0, 0.0, 0.0, 0.0, 2.0, 0.0, 0.0, ...   \n",
       "\n",
       "                                         features100  \\\n",
       "0  [0.0, 0.0, 0.0, 0.0, 0.0, 0.0, 0.0, 0.0, 0.0, ...   \n",
       "\n",
       "                                          features15  \\\n",
       "0  [0.0, 1.0, 1.0, 2.0, 0.0, 0.0, 0.0, 2.0, 0.0, ...   \n",
       "\n",
       "                                          features20  \\\n",
       "0  [0.0, 1.0, 0.0, 0.0, 0.0, 0.0, 1.0, 1.0, 2.0, ...   \n",
       "\n",
       "                                          features25  \\\n",
       "0  [0.0, 0.0, 0.0, 0.0, 0.0, 0.0, 1.0, 0.0, 0.0, ...   \n",
       "\n",
       "                                           features4  \\\n",
       "0  [2.0, 0.0, 0.0, 1.0, 0.0, 0.0256410256, 0.02, ...   \n",
       "\n",
       "                                           features5  \\\n",
       "0  [0.0, 2.0, 0.0, 0.0, 1.0, 0.0, 0.0256410256, 0...   \n",
       "\n",
       "                                           features6  \\\n",
       "0  [0.0, 0.0, 2.0, 0.0, 0.0, 1.0, 0.0, 0.02564102...   \n",
       "\n",
       "                         ...                          \\\n",
       "0                        ...                           \n",
       "\n",
       "                                           features9  \\\n",
       "0  [0.0, 2.0, 0.0, 0.0, 0.0, 2.0, 0.0, 0.0, 1.0, ...   \n",
       "\n",
       "                                             message spam flag  \\\n",
       "0  @Savjz what is the point of the quest in this ...  0.712101   \n",
       "\n",
       "                                         features125  \\\n",
       "0  [0.0, 0.0, 0.0, 0.0, 0.0, 0.0, 0.0, 0.0, 0.0, ...   \n",
       "\n",
       "                                         features150  \\\n",
       "0  [0.0, 0.0, 0.0, 0.0, 0.0, 0.0, 0.0, 0.0, 0.0, ...   \n",
       "\n",
       "                                         features200  \\\n",
       "0  [0.0, 0.0, 0.0, 0.0, 0.0, 0.0, 0.0, 0.0, 0.0, ...   \n",
       "\n",
       "                                         features300  \\\n",
       "0  [0.0, 0.0, 0.0, 0.0, 0.0, 0.0, 0.0, 0.0, 0.0, ...   \n",
       "\n",
       "                                         features400  \\\n",
       "0  [0.0, 0.0, 1.0, 0.0, 0.0, 0.0, 0.0, 0.0, 0.0, ...   \n",
       "\n",
       "                                         features500  \\\n",
       "0  [0.0, 0.0, 0.0, 0.0, 0.0, 0.0, 0.0, 0.0, 0.0, ...   \n",
       "\n",
       "                                        features1000  \n",
       "0  [0.0, 0.0, 0.0, 0.0, 0.0, 0.0, 0.0, 0.0, 0.0, ...  \n",
       "\n",
       "[1 rows x 22 columns]"
      ]
     },
     "execution_count": 52,
     "metadata": {},
     "output_type": "execute_result"
    }
   ],
   "source": [
    "_data2.to_json('All_Labeled_NA.json')\n",
    "_data2.head(1)"
   ]
  },
  {
   "cell_type": "code",
   "execution_count": 8,
   "metadata": {},
   "outputs": [
    {
     "data": {
      "text/plain": [
       "KMeans(algorithm='auto', copy_x=True, init='k-means++', max_iter=300,\n",
       "    n_clusters=300, n_init=10, n_jobs=1, precompute_distances='auto',\n",
       "    random_state=None, tol=0.0001, verbose=0)"
      ]
     },
     "execution_count": 8,
     "metadata": {},
     "output_type": "execute_result"
    }
   ],
   "source": [
    "cluster_model=KMeans(n_clusters=300)\n",
    "cluster_model.fit(vectors)"
   ]
  },
  {
   "cell_type": "code",
   "execution_count": 10,
   "metadata": {
    "collapsed": true
   },
   "outputs": [],
   "source": [
    "Y=list(_data2['class'])\n",
    "X=list(_data2['features300'])"
   ]
  },
  {
   "cell_type": "code",
   "execution_count": 11,
   "metadata": {},
   "outputs": [
    {
     "data": {
      "text/plain": [
       "RandomForestClassifier(bootstrap=True, class_weight=None, criterion='gini',\n",
       "            max_depth=128, max_features='auto', max_leaf_nodes=None,\n",
       "            min_impurity_decrease=0.0, min_impurity_split=None,\n",
       "            min_samples_leaf=1, min_samples_split=2,\n",
       "            min_weight_fraction_leaf=0.0, n_estimators=300, n_jobs=1,\n",
       "            oob_score=False, random_state=None, verbose=0,\n",
       "            warm_start=False)"
      ]
     },
     "execution_count": 11,
     "metadata": {},
     "output_type": "execute_result"
    }
   ],
   "source": [
    "model=RandomForestClassifier(n_estimators=300,max_depth=128)\n",
    "model.fit(X,Y)"
   ]
  },
  {
   "cell_type": "code",
   "execution_count": 18,
   "metadata": {
    "collapsed": true
   },
   "outputs": [],
   "source": [
    "importance = model.feature_importances_"
   ]
  },
  {
   "cell_type": "code",
   "execution_count": 19,
   "metadata": {
    "collapsed": true
   },
   "outputs": [],
   "source": [
    "def shrink_fearutes(n,X,importance):\n",
    "    indices = sorted(range(100),key=lambda x:importance[x])[-n:]\n",
    "    X_words=X[:100]\n",
    "    X_tail=X[100:]\n",
    "    new_words=[]\n",
    "    for i in indices:\n",
    "        new_words.append(X[i])\n",
    "    return list(new_words)+list(X_tail)"
   ]
  },
  {
   "cell_type": "code",
   "execution_count": 21,
   "metadata": {},
   "outputs": [
    {
     "data": {
      "text/plain": [
       "0.739461655662773"
      ]
     },
     "execution_count": 21,
     "metadata": {},
     "output_type": "execute_result"
    }
   ],
   "source": [
    "spam = _data2[_data2['class']==0].shape[0]\n",
    "total = _data2.shape[0]\n",
    "spam/float(total)"
   ]
  },
  {
   "cell_type": "code",
   "execution_count": 55,
   "metadata": {},
   "outputs": [
    {
     "name": "stdout",
     "output_type": "stream",
     "text": [
      "for 300 clusters and for trees of height128 and there being 600 trees\n",
      "CV accucary: 0.853491324587\n",
      "F1 Score: 0.675655515486\n",
      "for 400 clusters and for trees of height128 and there being 600 trees\n",
      "CV accucary: 0.851713922979\n",
      "F1 Score: 0.678071849321\n",
      "for 500 clusters and for trees of height128 and there being 600 trees\n",
      "CV accucary: 0.85129073212\n",
      "F1 Score: 0.686187108814\n"
     ]
    }
   ],
   "source": [
    "splitter = StratifiedShuffleSplit(n_splits=5,test_size=.3)\n",
    "trees = 600\n",
    "tree_height = 128\n",
    "model=RandomForestClassifier(n_estimators=trees,max_depth=tree_height)\n",
    "Y=list(_data2['class'])\n",
    "for n in [300,400,500]:\n",
    "    X = list(_data2['features'+str(n)])\n",
    "    print 'for ' +str(n)+' clusters and for trees of height'+str(tree_height)+' and there being '+str(trees)+' trees'\n",
    "    #print 'Training accucary: '+str(Train_Accucary(model,X,Y,splitter.split(X,Y)))\n",
    "    print 'CV accucary: '+str(cross_val_score(model,X=X,y=Y,cv=splitter.split(X,Y)).mean())\n",
    "    #print 'recall Score: '+str(cross_val_score(model,X=X_clusters,y=Y,cv=splitter.split(X_clusters,Y),scoring='recall').mean())\n",
    "    print 'F1 Score: '+str(cross_val_score(model,X=X,y=Y,cv=splitter.split(X,Y),scoring='f1').mean())"
   ]
  },
  {
   "cell_type": "code",
   "execution_count": 56,
   "metadata": {},
   "outputs": [
    {
     "data": {
      "text/html": [
       "<div>\n",
       "<style>\n",
       "    .dataframe thead tr:only-child th {\n",
       "        text-align: right;\n",
       "    }\n",
       "\n",
       "    .dataframe thead th {\n",
       "        text-align: left;\n",
       "    }\n",
       "\n",
       "    .dataframe tbody tr th {\n",
       "        vertical-align: top;\n",
       "    }\n",
       "</style>\n",
       "<table border=\"1\" class=\"dataframe\">\n",
       "  <thead>\n",
       "    <tr style=\"text-align: right;\">\n",
       "      <th></th>\n",
       "      <th>auto_flag</th>\n",
       "      <th>class</th>\n",
       "      <th>edited message</th>\n",
       "      <th>features100</th>\n",
       "      <th>message</th>\n",
       "      <th>spam flag</th>\n",
       "      <th>features200</th>\n",
       "      <th>features300</th>\n",
       "      <th>features400</th>\n",
       "      <th>features500</th>\n",
       "      <th>features1000</th>\n",
       "    </tr>\n",
       "  </thead>\n",
       "  <tbody>\n",
       "    <tr>\n",
       "      <th>0</th>\n",
       "      <td>0</td>\n",
       "      <td>1</td>\n",
       "      <td>@savjz what is the point of the quest in this ...</td>\n",
       "      <td>[0.0, 0.0, 0.0, 0.0, 0.0, 0.0, 0.0, 0.0, 0.0, ...</td>\n",
       "      <td>@Savjz what is the point of the quest in this ...</td>\n",
       "      <td>0.712101</td>\n",
       "      <td>[0.0, 0.0, 0.0, 0.0, 0.0, 0.0, 0.0, 0.0, 0.0, ...</td>\n",
       "      <td>[0.0, 0.0, 0.0, 0.0, 0.0, 0.0, 0.0, 0.0, 0.0, ...</td>\n",
       "      <td>[0.0, 0.0, 0.0, 0.0, 0.0, 0.0, 0.0, 0.0, 0.0, ...</td>\n",
       "      <td>[0.0, 0.0, 0.0, 0.0, 0.0, 0.0, 0.0, 0.0, 0.0, ...</td>\n",
       "      <td>[0.0, 0.0, 0.0, 0.0, 0.0, 0.0, 0.0, 0.0, 0.0, ...</td>\n",
       "    </tr>\n",
       "  </tbody>\n",
       "</table>\n",
       "</div>"
      ],
      "text/plain": [
       "   auto_flag  class                                     edited message  \\\n",
       "0          0      1  @savjz what is the point of the quest in this ...   \n",
       "\n",
       "                                         features100  \\\n",
       "0  [0.0, 0.0, 0.0, 0.0, 0.0, 0.0, 0.0, 0.0, 0.0, ...   \n",
       "\n",
       "                                             message spam flag  \\\n",
       "0  @Savjz what is the point of the quest in this ...  0.712101   \n",
       "\n",
       "                                         features200  \\\n",
       "0  [0.0, 0.0, 0.0, 0.0, 0.0, 0.0, 0.0, 0.0, 0.0, ...   \n",
       "\n",
       "                                         features300  \\\n",
       "0  [0.0, 0.0, 0.0, 0.0, 0.0, 0.0, 0.0, 0.0, 0.0, ...   \n",
       "\n",
       "                                         features400  \\\n",
       "0  [0.0, 0.0, 0.0, 0.0, 0.0, 0.0, 0.0, 0.0, 0.0, ...   \n",
       "\n",
       "                                         features500  \\\n",
       "0  [0.0, 0.0, 0.0, 0.0, 0.0, 0.0, 0.0, 0.0, 0.0, ...   \n",
       "\n",
       "                                        features1000  \n",
       "0  [0.0, 0.0, 0.0, 0.0, 0.0, 0.0, 0.0, 0.0, 0.0, ...  "
      ]
     },
     "execution_count": 56,
     "metadata": {},
     "output_type": "execute_result"
    }
   ],
   "source": [
    "\n",
    "_data.head(1)"
   ]
  },
  {
   "cell_type": "code",
   "execution_count": 57,
   "metadata": {
    "collapsed": true
   },
   "outputs": [],
   "source": [
    "model=RandomForestClassifier(n_estimators=300,max_depth=128)\n",
    "splitter = StratifiedShuffleSplit(n_splits=5,test_size=.3)\n",
    "X=list(_data['features300'])\n",
    "Y=list(_data['class'])\n",
    "flag=list(_data['auto_flag'])"
   ]
  },
  {
   "cell_type": "code",
   "execution_count": 33,
   "metadata": {},
   "outputs": [
    {
     "data": {
      "text/plain": [
       "<module 'custom_validation_tools' from 'custom_validation_tools.py'>"
      ]
     },
     "execution_count": 33,
     "metadata": {},
     "output_type": "execute_result"
    }
   ],
   "source": [
    "reload(custom_validation_tools)"
   ]
  },
  {
   "cell_type": "code",
   "execution_count": 58,
   "metadata": {},
   "outputs": [
    {
     "data": {
      "text/plain": [
       "0.9308290610488419"
      ]
     },
     "execution_count": 58,
     "metadata": {},
     "output_type": "execute_result"
    }
   ],
   "source": [
    "custom_validation_tools.top_guess_accucary(splitter.split(X,Y),model,X,Y,flag)"
   ]
  },
  {
   "cell_type": "code",
   "execution_count": 5,
   "metadata": {},
   "outputs": [
    {
     "data": {
      "text/plain": [
       "RandomForestClassifier(bootstrap=True, class_weight=None, criterion='gini',\n",
       "            max_depth=128, max_features='auto', max_leaf_nodes=None,\n",
       "            min_impurity_decrease=0.0, min_impurity_split=None,\n",
       "            min_samples_leaf=1, min_samples_split=2,\n",
       "            min_weight_fraction_leaf=0.0, n_estimators=300, n_jobs=1,\n",
       "            oob_score=False, random_state=None, verbose=0,\n",
       "            warm_start=False)"
      ]
     },
     "execution_count": 5,
     "metadata": {},
     "output_type": "execute_result"
    }
   ],
   "source": [
    "X=list(_data2['features300'])\n",
    "Y=list(_data2['class'])\n",
    "model=RandomForestClassifier(n_estimators=300,max_depth=128)\n",
    "model.fit(X,Y)"
   ]
  },
  {
   "cell_type": "code",
   "execution_count": 12,
   "metadata": {
    "collapsed": true
   },
   "outputs": [],
   "source": [
    "with open('current_model','w+') as file:\n",
    "    pickle.dump(model,file)"
   ]
  },
  {
   "cell_type": "code",
   "execution_count": 13,
   "metadata": {
    "collapsed": true
   },
   "outputs": [],
   "source": [
    "with open('current_wv_model','w+') as file:\n",
    "    pickle.dump(word_vec,file)"
   ]
  },
  {
   "cell_type": "code",
   "execution_count": 14,
   "metadata": {
    "collapsed": true
   },
   "outputs": [],
   "source": [
    "with open('current_cluster_model','w+') as file:\n",
    "    pickle.dump(cluster_model,file)"
   ]
  },
  {
   "cell_type": "code",
   "execution_count": null,
   "metadata": {
    "collapsed": true
   },
   "outputs": [],
   "source": []
  }
 ],
 "metadata": {
  "kernelspec": {
   "display_name": "Python 2",
   "language": "python",
   "name": "python2"
  },
  "language_info": {
   "codemirror_mode": {
    "name": "ipython",
    "version": 2
   },
   "file_extension": ".py",
   "mimetype": "text/x-python",
   "name": "python",
   "nbconvert_exporter": "python",
   "pygments_lexer": "ipython2",
   "version": "2.7.12"
  }
 },
 "nbformat": 4,
 "nbformat_minor": 2
}
